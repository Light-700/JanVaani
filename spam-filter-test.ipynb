{
 "cells": [
  {
   "cell_type": "code",
   "execution_count": 22,
   "metadata": {
    "execution": {
     "iopub.execute_input": "2025-01-11T13:51:15.207831Z",
     "iopub.status.busy": "2025-01-11T13:51:15.207429Z",
     "iopub.status.idle": "2025-01-11T13:51:15.212202Z",
     "shell.execute_reply": "2025-01-11T13:51:15.211116Z",
     "shell.execute_reply.started": "2025-01-11T13:51:15.207799Z"
    },
    "trusted": true
   },
   "outputs": [],
   "source": [
    "import time\n",
    "from huggingface_hub import InferenceClient\n",
    "import json\n",
    "import requests\n",
    "import re"
   ]
  },
  {
   "cell_type": "code",
   "execution_count": 39,
   "metadata": {
    "execution": {
     "iopub.execute_input": "2025-01-11T14:33:17.044977Z",
     "iopub.status.busy": "2025-01-11T14:33:17.044630Z",
     "iopub.status.idle": "2025-01-11T14:33:17.720871Z",
     "shell.execute_reply": "2025-01-11T14:33:17.719838Z",
     "shell.execute_reply.started": "2025-01-11T14:33:17.044950Z"
    },
    "trusted": true
   },
   "outputs": [
    {
     "name": "stdout",
     "output_type": "stream",
     "text": [
      "Raw Response: [[{'label': 'LABEL_1', 'score': 0.9975996613502502}, {'label': 'LABEL_0', 'score': 0.0024003705475479364}]]\n",
      "Nested list detected.\n",
      "Prediction: Spam\n"
     ]
    }
   ],
   "source": [
    "\n",
    "# Hugging Face API URL for the model\n",
    "API_URL = \"https://api-inference.huggingface.co/models/mrm8488/bert-tiny-finetuned-enron-spam-detection\"\n",
    "\n",
    "# Replace with your Hugging Face API token\n",
    "headers = {\n",
    "    'Authorization': r'Bearer{HF_API_TOKEN} ',\n",
    "    'Content-Type': 'application/json'\n",
    "}\n",
    "\n",
    "# List of keywords or phrases to mask\n",
    "spam_keywords = [\"free\", \"win\", \"prize\", \"click here\", \"claim\", \"limited offer\", \"exclusive\", \"urgent\"]\n",
    "\n",
    "def detect_spam(text, retries=5, wait_time=10):\n",
    "    # Automate the masking process by replacing spam keywords with [MASK]\n",
    "    for keyword in spam_keywords:\n",
    "        text = re.sub(r'\\b' + re.escape(keyword) + r'\\b', '[MASK]', text, flags=re.IGNORECASE)\n",
    "\n",
    "    payload = {\"inputs\": text}\n",
    "\n",
    "    for attempt in range(retries):\n",
    "        try:\n",
    "            response = requests.post(API_URL, headers=headers, json=payload)\n",
    "\n",
    "            if response.status_code == 200:\n",
    "                result = response.json()\n",
    "                print(\"Raw Response:\", result)  # Debugging\n",
    "\n",
    "                if isinstance(result, list):\n",
    "                    # Check if the first element is a list (nested list)\n",
    "                    if isinstance(result[0], list):\n",
    "                        # Handle the case where the response is a list of lists\n",
    "                        print(\"Nested list detected.\")\n",
    "                        for inner_result in result:\n",
    "                            if isinstance(inner_result, list) and isinstance(inner_result[0], dict) and 'label' in inner_result[0]:\n",
    "                                # Extract the label from the first item in the inner list\n",
    "                                label = inner_result[0]['label']\n",
    "                                # Assuming 'LABEL_1' = spam and 'LABEL_0' = not spam\n",
    "                                if label == 'LABEL_1':\n",
    "                                    return \"Spam\"\n",
    "                                elif label == 'LABEL_0':\n",
    "                                    return \"Not Spam\"\n",
    "                                else:\n",
    "                                    return \"Unexpected label: \" + label\n",
    "                            else:\n",
    "                                return \"Unexpected inner structure in nested list\"\n",
    "                    elif isinstance(result[0], dict) and 'label' in result[0]:\n",
    "                        # Handle the case where the result is a list of dictionaries\n",
    "                        label = result[0]['label']\n",
    "                        # Assuming 'LABEL_1' = spam and 'LABEL_0' = not spam\n",
    "                        if label == 'LABEL_1':\n",
    "                            return \"Spam\"\n",
    "                        elif label == 'LABEL_0':\n",
    "                            return \"Not Spam\"\n",
    "                        else:\n",
    "                            return \"Unexpected label: \" + label\n",
    "                    else:\n",
    "                        return \"Unexpected structure in list\"\n",
    "                        \n",
    "                elif isinstance(result, dict) and 'label' in result:\n",
    "                    # Handle the case where the response is a dictionary\n",
    "                    label = result['label']\n",
    "                    # Assuming 'LABEL_1' = spam and 'LABEL_0' = not spam\n",
    "                    if label == 'LABEL_1':\n",
    "                        return \"Spam\"\n",
    "                    elif label == 'LABEL_0':\n",
    "                        return \"Not Spam\"\n",
    "                    else:\n",
    "                        return \"Unexpected label: \" + label\n",
    "                else:\n",
    "                    print(\"Unexpected response format:\", result)\n",
    "                    return \"Unexpected response format\"\n",
    "\n",
    "            # Handle model loading error (503)\n",
    "            elif response.status_code == 503:\n",
    "                print(f\"Model is loading. Retrying in {wait_time} seconds... (Attempt {attempt + 1})\")\n",
    "                time.sleep(wait_time)\n",
    "            \n",
    "            else:\n",
    "                print(f\"Error: {response.status_code} - {response.text}\")\n",
    "                return None\n",
    "\n",
    "        except requests.exceptions.RequestException as e:\n",
    "            # Catch network or other request-related exceptions\n",
    "            print(f\"Request failed: {e}\")\n",
    "            if attempt < retries - 1:\n",
    "                print(f\"Retrying in {wait_time} seconds... (Attempt {attempt + 1})\")\n",
    "                time.sleep(wait_time)\n",
    "            else:\n",
    "                print(\"Max retries reached.\")\n",
    "                return None\n",
    "\n",
    "    print(\"Model failed to load after several attempts.\")\n",
    "    return None\n",
    "\n",
    "# Test the function\n",
    "sample_text = \"Congratulations! You've won a free iPhone. Click here to claim your prize!\"\n",
    "result = detect_spam(sample_text)\n",
    "print(\"Prediction:\", result)\n"
   ]
  },
  {
   "cell_type": "code",
   "execution_count": null,
   "metadata": {
    "trusted": true
   },
   "outputs": [],
   "source": []
  }
 ],
 "metadata": {
  "kaggle": {
   "accelerator": "none",
   "dataSources": [],
   "dockerImageVersionId": 30822,
   "isGpuEnabled": false,
   "isInternetEnabled": true,
   "language": "python",
   "sourceType": "notebook"
  },
  "kernelspec": {
   "display_name": "Python 3",
   "language": "python",
   "name": "python3"
  },
  "language_info": {
   "codemirror_mode": {
    "name": "ipython",
    "version": 3
   },
   "file_extension": ".py",
   "mimetype": "text/x-python",
   "name": "python",
   "nbconvert_exporter": "python",
   "pygments_lexer": "ipython3",
   "version": "3.10.12"
  }
 },
 "nbformat": 4,
 "nbformat_minor": 4
}
